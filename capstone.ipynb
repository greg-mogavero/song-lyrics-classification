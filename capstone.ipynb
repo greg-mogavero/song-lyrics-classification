{
 "cells": [
  {
   "cell_type": "markdown",
   "metadata": {},
   "source": [
    "# Song Lyric Classification By Artist\n",
    "#### Udacity Machine Learning Nanodegree Capstone Project\n",
    "#### Greg Mogavero"
   ]
  },
  {
   "cell_type": "markdown",
   "metadata": {},
   "source": [
    "## Project Description\n",
    "---\n",
    "Machine learning is commonly used to perform [natural language processing](https://en.wikipedia.org/wiki/Natural_language_processing) (NLP), a “field of computer science, artificial intelligence and computational linguistics concerned with the interactions between computers and human (natural) languages, and, in particular, concerned with programming computers to fruitfully process large natural language corpora.” One particular use case for NLP is analyzing song lyrics to classify them by artist. A successful machine learning algorithm would not only have to take into account the songwriter’s lexicon, but also pick up on the unique subtleties of the artist’s style in order to differentiate artists who write about similar topics.\n",
    "\n",
    "Efforts have already been made by the machine learning community to classify songs based on their lyrics by genre and artist. [Sadovsky and Chen](https://nlp.stanford.edu/courses/cs224n/2006/fp/sadovsky-x1n9-1-224n_final_report.pdf) used Maxent and SVM classifiers to accomplish this task fairly successfully. Using no acoustic information whatsoever, they were able to achieve 70-80% artist classification accuracy. Because they used Bag of Words for feature selection, they remark that they might have been able to achieve higher accuracy if they did some sort of semantic analysis.\n",
    "For this project, I will be using a [dataset](https://www.kaggle.com/mousehead/songlyrics) comprised of 57,650 song lyrics scraped from LyricsFreak by Sergey Kuznetsov.\n",
    "\n",
    "Given song lyrics (text only) as input and the corresponding artists as labels, I will attempt to build a supervised learner that can classify new songs by artist. Input will be truncated or padded during preprocessing so that each sample is a fixed size.\n",
    "\n",
    "I will attempt to solve the problem of classifying song lyrics by artist by training a Long Short Term Memory (LSTM) Neural Network. These models, when trained on text data, can “remember” information they have seen in the past. I hypothesize that the ability to learn this contextual information will help the learner distinguish songs by different artists who have similar lexicons, but different styles.\n",
    "\n",
    "In order to get meaningful results, I will choose the 10 artists from the dataset with the largest repertoire of songs. After preprocessing the input text data using Word2Vec, I will train and test a basic LSTM network, analyze its performance, and then try to improve results through hyperparameter tuning and architecture modification. Final results will be compared against a benchmark model based on the models Sadovsky and Chen used in their experiment."
   ]
  },
  {
   "cell_type": "markdown",
   "metadata": {},
   "source": [
    "## Data Exploration\n",
    "---\n",
    "The first thing we'll do is import the dataset into a Pandas DataFrame."
   ]
  },
  {
   "cell_type": "code",
   "execution_count": 2,
   "metadata": {},
   "outputs": [
    {
     "data": {
      "text/html": [
       "<div>\n",
       "<style>\n",
       "    .dataframe thead tr:only-child th {\n",
       "        text-align: right;\n",
       "    }\n",
       "\n",
       "    .dataframe thead th {\n",
       "        text-align: left;\n",
       "    }\n",
       "\n",
       "    .dataframe tbody tr th {\n",
       "        vertical-align: top;\n",
       "    }\n",
       "</style>\n",
       "<table border=\"1\" class=\"dataframe\">\n",
       "  <thead>\n",
       "    <tr style=\"text-align: right;\">\n",
       "      <th></th>\n",
       "      <th>artist</th>\n",
       "      <th>song</th>\n",
       "      <th>link</th>\n",
       "      <th>text</th>\n",
       "    </tr>\n",
       "  </thead>\n",
       "  <tbody>\n",
       "    <tr>\n",
       "      <th>0</th>\n",
       "      <td>ABBA</td>\n",
       "      <td>Ahe's My Kind Of Girl</td>\n",
       "      <td>/a/abba/ahes+my+kind+of+girl_20598417.html</td>\n",
       "      <td>Look at her face, it's a wonderful face  \\nAnd...</td>\n",
       "    </tr>\n",
       "    <tr>\n",
       "      <th>1</th>\n",
       "      <td>ABBA</td>\n",
       "      <td>Andante, Andante</td>\n",
       "      <td>/a/abba/andante+andante_20002708.html</td>\n",
       "      <td>Take it easy with me, please  \\nTouch me gentl...</td>\n",
       "    </tr>\n",
       "    <tr>\n",
       "      <th>2</th>\n",
       "      <td>ABBA</td>\n",
       "      <td>As Good As New</td>\n",
       "      <td>/a/abba/as+good+as+new_20003033.html</td>\n",
       "      <td>I'll never know why I had to go  \\nWhy I had t...</td>\n",
       "    </tr>\n",
       "    <tr>\n",
       "      <th>3</th>\n",
       "      <td>ABBA</td>\n",
       "      <td>Bang</td>\n",
       "      <td>/a/abba/bang_20598415.html</td>\n",
       "      <td>Making somebody happy is a question of give an...</td>\n",
       "    </tr>\n",
       "    <tr>\n",
       "      <th>4</th>\n",
       "      <td>ABBA</td>\n",
       "      <td>Bang-A-Boomerang</td>\n",
       "      <td>/a/abba/bang+a+boomerang_20002668.html</td>\n",
       "      <td>Making somebody happy is a question of give an...</td>\n",
       "    </tr>\n",
       "  </tbody>\n",
       "</table>\n",
       "</div>"
      ],
      "text/plain": [
       "  artist                   song                                        link  \\\n",
       "0   ABBA  Ahe's My Kind Of Girl  /a/abba/ahes+my+kind+of+girl_20598417.html   \n",
       "1   ABBA       Andante, Andante       /a/abba/andante+andante_20002708.html   \n",
       "2   ABBA         As Good As New        /a/abba/as+good+as+new_20003033.html   \n",
       "3   ABBA                   Bang                  /a/abba/bang_20598415.html   \n",
       "4   ABBA       Bang-A-Boomerang      /a/abba/bang+a+boomerang_20002668.html   \n",
       "\n",
       "                                                text  \n",
       "0  Look at her face, it's a wonderful face  \\nAnd...  \n",
       "1  Take it easy with me, please  \\nTouch me gentl...  \n",
       "2  I'll never know why I had to go  \\nWhy I had t...  \n",
       "3  Making somebody happy is a question of give an...  \n",
       "4  Making somebody happy is a question of give an...  "
      ]
     },
     "execution_count": 2,
     "metadata": {},
     "output_type": "execute_result"
    }
   ],
   "source": [
    "import pandas as pd\n",
    "import numpy as np\n",
    "\n",
    "raw_data = pd.read_csv(\"./songdata.csv\")\n",
    "raw_data.head()"
   ]
  },
  {
   "cell_type": "markdown",
   "metadata": {},
   "source": [
    "Now let's drop the columns we don't need. Let's also count the number of songs by each artist, print a description of these statistics, and print the top 10 artists with the most songs."
   ]
  },
  {
   "cell_type": "code",
   "execution_count": 3,
   "metadata": {},
   "outputs": [
    {
     "data": {
      "text/html": [
       "<div>\n",
       "<style>\n",
       "    .dataframe thead tr:only-child th {\n",
       "        text-align: right;\n",
       "    }\n",
       "\n",
       "    .dataframe thead th {\n",
       "        text-align: left;\n",
       "    }\n",
       "\n",
       "    .dataframe tbody tr th {\n",
       "        vertical-align: top;\n",
       "    }\n",
       "</style>\n",
       "<table border=\"1\" class=\"dataframe\">\n",
       "  <thead>\n",
       "    <tr style=\"text-align: right;\">\n",
       "      <th></th>\n",
       "      <th>song count</th>\n",
       "    </tr>\n",
       "  </thead>\n",
       "  <tbody>\n",
       "    <tr>\n",
       "      <th>count</th>\n",
       "      <td>643.000000</td>\n",
       "    </tr>\n",
       "    <tr>\n",
       "      <th>mean</th>\n",
       "      <td>89.657854</td>\n",
       "    </tr>\n",
       "    <tr>\n",
       "      <th>std</th>\n",
       "      <td>54.689192</td>\n",
       "    </tr>\n",
       "    <tr>\n",
       "      <th>min</th>\n",
       "      <td>1.000000</td>\n",
       "    </tr>\n",
       "    <tr>\n",
       "      <th>25%</th>\n",
       "      <td>41.000000</td>\n",
       "    </tr>\n",
       "    <tr>\n",
       "      <th>50%</th>\n",
       "      <td>86.000000</td>\n",
       "    </tr>\n",
       "    <tr>\n",
       "      <th>75%</th>\n",
       "      <td>141.000000</td>\n",
       "    </tr>\n",
       "    <tr>\n",
       "      <th>max</th>\n",
       "      <td>191.000000</td>\n",
       "    </tr>\n",
       "  </tbody>\n",
       "</table>\n",
       "</div>"
      ],
      "text/plain": [
       "       song count\n",
       "count  643.000000\n",
       "mean    89.657854\n",
       "std     54.689192\n",
       "min      1.000000\n",
       "25%     41.000000\n",
       "50%     86.000000\n",
       "75%    141.000000\n",
       "max    191.000000"
      ]
     },
     "execution_count": 3,
     "metadata": {},
     "output_type": "execute_result"
    }
   ],
   "source": [
    "data = raw_data.drop([\"song\", \"link\"], axis=1)\n",
    "num_songs_per_artist = data.groupby([\"artist\"], as_index=False).count().rename(columns={\"text\": \"song count\"})\n",
    "\n",
    "num_songs_per_artist.describe()"
   ]
  },
  {
   "cell_type": "code",
   "execution_count": 4,
   "metadata": {},
   "outputs": [
    {
     "data": {
      "text/html": [
       "<div>\n",
       "<style>\n",
       "    .dataframe thead tr:only-child th {\n",
       "        text-align: right;\n",
       "    }\n",
       "\n",
       "    .dataframe thead th {\n",
       "        text-align: left;\n",
       "    }\n",
       "\n",
       "    .dataframe tbody tr th {\n",
       "        vertical-align: top;\n",
       "    }\n",
       "</style>\n",
       "<table border=\"1\" class=\"dataframe\">\n",
       "  <thead>\n",
       "    <tr style=\"text-align: right;\">\n",
       "      <th></th>\n",
       "      <th>artist</th>\n",
       "      <th>song count</th>\n",
       "    </tr>\n",
       "  </thead>\n",
       "  <tbody>\n",
       "    <tr>\n",
       "      <th>0</th>\n",
       "      <td>Donna Summer</td>\n",
       "      <td>191</td>\n",
       "    </tr>\n",
       "    <tr>\n",
       "      <th>1</th>\n",
       "      <td>Gordon Lightfoot</td>\n",
       "      <td>189</td>\n",
       "    </tr>\n",
       "    <tr>\n",
       "      <th>2</th>\n",
       "      <td>Bob Dylan</td>\n",
       "      <td>188</td>\n",
       "    </tr>\n",
       "    <tr>\n",
       "      <th>3</th>\n",
       "      <td>George Strait</td>\n",
       "      <td>188</td>\n",
       "    </tr>\n",
       "    <tr>\n",
       "      <th>4</th>\n",
       "      <td>Cher</td>\n",
       "      <td>187</td>\n",
       "    </tr>\n",
       "  </tbody>\n",
       "</table>\n",
       "</div>"
      ],
      "text/plain": [
       "             artist  song count\n",
       "0      Donna Summer         191\n",
       "1  Gordon Lightfoot         189\n",
       "2         Bob Dylan         188\n",
       "3     George Strait         188\n",
       "4              Cher         187"
      ]
     },
     "execution_count": 4,
     "metadata": {},
     "output_type": "execute_result"
    }
   ],
   "source": [
    "num_songs_per_artist.sort_values(\"song count\", inplace=True, ascending=False)\n",
    "num_songs_per_artist.reset_index(drop=True, inplace=True)\n",
    "num_songs_per_artist[:5]"
   ]
  },
  {
   "cell_type": "markdown",
   "metadata": {},
   "source": [
    "We can see that the number of songs per artist ranges from 1 to 191, with a mean of 89.658 and a standard deviation of 54.689. If we were to use the entire dataset, we would see a big class imbalance, and the supervised learner would struggle to learn anything meaningful about the artists with a relatively small number of songs. But if we just use the 10 artists with the most songs, we get a dataset with fairly balanced classes. This also ensures we will get a meaningful accuracy score when evaluating our model's performance. Let's reduce our dataset down to these 10 artists now."
   ]
  },
  {
   "cell_type": "code",
   "execution_count": 5,
   "metadata": {},
   "outputs": [
    {
     "data": {
      "text/html": [
       "<div>\n",
       "<style>\n",
       "    .dataframe thead tr:only-child th {\n",
       "        text-align: right;\n",
       "    }\n",
       "\n",
       "    .dataframe thead th {\n",
       "        text-align: left;\n",
       "    }\n",
       "\n",
       "    .dataframe tbody tr th {\n",
       "        vertical-align: top;\n",
       "    }\n",
       "</style>\n",
       "<table border=\"1\" class=\"dataframe\">\n",
       "  <thead>\n",
       "    <tr style=\"text-align: right;\">\n",
       "      <th></th>\n",
       "      <th>song count</th>\n",
       "    </tr>\n",
       "  </thead>\n",
       "  <tbody>\n",
       "    <tr>\n",
       "      <th>count</th>\n",
       "      <td>5.000000</td>\n",
       "    </tr>\n",
       "    <tr>\n",
       "      <th>mean</th>\n",
       "      <td>188.600000</td>\n",
       "    </tr>\n",
       "    <tr>\n",
       "      <th>std</th>\n",
       "      <td>1.516575</td>\n",
       "    </tr>\n",
       "    <tr>\n",
       "      <th>min</th>\n",
       "      <td>187.000000</td>\n",
       "    </tr>\n",
       "    <tr>\n",
       "      <th>25%</th>\n",
       "      <td>188.000000</td>\n",
       "    </tr>\n",
       "    <tr>\n",
       "      <th>50%</th>\n",
       "      <td>188.000000</td>\n",
       "    </tr>\n",
       "    <tr>\n",
       "      <th>75%</th>\n",
       "      <td>189.000000</td>\n",
       "    </tr>\n",
       "    <tr>\n",
       "      <th>max</th>\n",
       "      <td>191.000000</td>\n",
       "    </tr>\n",
       "  </tbody>\n",
       "</table>\n",
       "</div>"
      ],
      "text/plain": [
       "       song count\n",
       "count    5.000000\n",
       "mean   188.600000\n",
       "std      1.516575\n",
       "min    187.000000\n",
       "25%    188.000000\n",
       "50%    188.000000\n",
       "75%    189.000000\n",
       "max    191.000000"
      ]
     },
     "execution_count": 5,
     "metadata": {},
     "output_type": "execute_result"
    }
   ],
   "source": [
    "data = data[data[\"artist\"].map(lambda x: x in num_songs_per_artist[\"artist\"][:5].values)]\n",
    "data.reset_index(drop=True, inplace=True)\n",
    "\n",
    "# describe the stats of the new dataset\n",
    "data.groupby([\"artist\"], as_index=False).count().rename(columns={\"text\": \"song count\"}).describe()"
   ]
  },
  {
   "cell_type": "markdown",
   "metadata": {
    "collapsed": true
   },
   "source": [
    "We can see that the new dataset is much more balanced."
   ]
  },
  {
   "cell_type": "markdown",
   "metadata": {},
   "source": [
    "## Benchmark Model\n",
    "---\n",
    "For my benchmark, I will use an SVM classifier (like in Sadovsky and Chen's experiment) on the preprocessed song lyrics. However, my model is much simpler and only uses sklearn's CountVectorizer with mostly default parameters to create the bag of words, whereas Sadovsky and Chen first found word importances through a maxent classifier and constructed the bag of words using only the most important features. Given that this is just a benchmark model, I elected to go with a quicker, simpler solution."
   ]
  },
  {
   "cell_type": "code",
   "execution_count": 6,
   "metadata": {},
   "outputs": [
    {
     "name": "stdout",
     "output_type": "stream",
     "text": [
      "Benchmark accuracy score: 0.397\n",
      "Confusion matrix, without normalization\n"
     ]
    },
    {
     "data": {
      "image/png": "[encoded data removed]",
      "text/plain": [
       "<matplotlib.figure.Figure at 0x2697e359a58>"
      ]
     },
     "metadata": {},
     "output_type": "display_data"
    }
   ],
   "source": [
    "%matplotlib inline\n",
    "\n",
    "import matplotlib.pyplot as plt\n",
    "from sklearn.svm import SVC\n",
    "from sklearn.metrics import accuracy_score\n",
    "from sklearn.metrics import precision_score\n",
    "from sklearn.metrics import recall_score\n",
    "from sklearn.metrics import confusion_matrix\n",
    "from sklearn.model_selection import train_test_split\n",
    "from sklearn.feature_extraction.text import CountVectorizer\n",
    "from visualization import plot_confusion_matrix\n",
    "\n",
    "y = data[\"artist\"]\n",
    "cv = CountVectorizer(stop_words=\"english\", max_features=250)\n",
    "X = cv.fit_transform(data[\"text\"])\n",
    "\n",
    "X_train, X_test, y_train, y_test = train_test_split(X, y, test_size = 0.2, random_state=42)\n",
    "\n",
    "clf = SVC(random_state=42)\n",
    "clf.fit(X_train, y_train)\n",
    "pred = clf.predict(X_test)\n",
    "\n",
    "print(\"Benchmark accuracy score: {:.3f}\".format(accuracy_score(y_test, pred)))\n",
    "class_names = data[\"artist\"].unique()\n",
    "plt.figure(figsize=(7, 7))\n",
    "plot_confusion_matrix(confusion_matrix(y_test, pred, labels=class_names), class_names)"
   ]
  },
  {
   "cell_type": "markdown",
   "metadata": {
    "collapsed": true
   },
   "source": [
    "With 5 labels and only considering the 250 most frequent words (stopwords removed), the benchmark model achieved an accuracy score of 39.7%. This is better than random guessing, and it means that supervised learners can learn to distinguish artists with some success based on word frequency alone. This makes sense since artists generally sing about a wide variety of topics, and different artists might sing about the same topic.\n",
    "\n",
    "Once again it's important to note that we can't use Sadovsky and Chen's results as a benchmark (they achieved around 70% accuracy for artist classification) because our dataset is different and they used more complex preprocessing methods."
   ]
  },
  {
   "cell_type": "markdown",
   "metadata": {
    "collapsed": true
   },
   "source": [
    "## Preprocessing\n",
    "---\n",
    "For the first step of preprocessing the data, we need to convert the words in our text input into numerical representations. I chose to represent each word by its frequency rank, and the rank ascends from most frequent word to the least frequent word. Rank 0 is special in that it represents words that we won't consider because they appear too infrequently. The maximum number of words to consider can be passed as a parameter to the words_to_index() function."
   ]
  },
  {
   "cell_type": "code",
   "execution_count": 7,
   "metadata": {},
   "outputs": [
    {
     "name": "stdout",
     "output_type": "stream",
     "text": [
      "Tokenizing...\n",
      "Finished tokenizing after 0.035s\n",
      "Converting words to indices...\n",
      "Finished after 0.034s\n",
      "\n",
      "Example song before preprocessing\n",
      "--------------------------------------------------------------------------------\n",
      "When she said, \"Don't waste your words, they're just lies,\"  \n",
      "I cried she was deaf.  \n",
      "And she worked on my face until breaking my eyes,  \n",
      "Then said, \"What else you got left?\"  \n",
      "It was then that I got up to leave  \n",
      "But she said, \"Don't forget,  \n",
      "Everybody must give something back  \n",
      "For something they get.\"  \n",
      "  \n",
      "I stood there and hummed,  \n",
      "I tapped on her drum  \n",
      "And asked her how come.  \n",
      "And she buttoned her boot,  \n",
      "And straightened her suit,  \n",
      "Then she said, \"Don't get cute.\"  \n",
      "So I forced my hands in my pockets  \n",
      "And felt with my thumbs,  \n",
      "And gallantly handed her  \n",
      "My very last piece of gum.  \n",
      "  \n",
      "She threw me outside,  \n",
      "I stood in the dirt where ev'ryone walked.  \n",
      "And after finding I'd forgotten my shirt,  \n",
      "I went back and knocked.  \n",
      "I waited in the hallway, she went to get it,  \n",
      "And I tried to make sense  \n",
      "Out of that picture of you in your wheelchair  \n",
      "That leaned up against--  \n",
      "  \n",
      "Her Jamaican rum  \n",
      "And when she did come, I asked her for some.  \n",
      "She said, \"No, dear.\"  \n",
      "I said, \"Your words aren't clear,  \n",
      "You'd better spit out your gum.\"  \n",
      "She screamed till her face got so red,  \n",
      "Then she fell on the floor,  \n",
      "And I covered her up and then  \n",
      "Thought I'd go look through her drawer.  \n",
      "  \n",
      "And when I was through  \n",
      "I filled up my shoe and brought it to you.  \n",
      "And you, you took me in,  \n",
      "You loved me then, you never wasted time.  \n",
      "And I, I never took much,  \n",
      "I never asked for your crutch  \n",
      "And I don't ask for mine.\n",
      "\n",
      "\n",
      "\n",
      "Song after preprocessing (truncated after 200 words)\n",
      "--------------------------------------------------------------------------------\n",
      "[  29   35   86   22  930   18  329  386   24  676    2  460   35   30 2314\n",
      "    4   35 2112   12    9  174  354 1132    9  125  112   86   44  365    3\n",
      "   34  172   11   30  112   13    2   34   47    5  203   21   35   86   22\n",
      "  324  424  173  137  152   78   19  152   50   61    2  800   66    4 3705\n",
      "    2 4921   12   43 2606    4  778   43   82   53    4   35 4922   43 3019\n",
      "    4 4923   43 1662  112   35   86   22   61 2607   26    2 3020    9  394\n",
      "    8    9 1780    4  524   25    9 4924    4 4925 3706   43    9  382  146\n",
      " 1663   10 3707   35  853    7  581    2  800    8    1  963   74 4926  398\n",
      "    4  178 2608  131 1133    9 2609    2  325   78    4 1664    2 1557    8\n",
      "    1 2610   35  325    5   61   11    4    2  357    5   91 2113   48   10\n",
      "   13 1388   10    3    8   18 4927   13 4928   47  801   43 4929 3021    4\n",
      "   29   35  140   53    2  778   43   19  113   35   86   31  714    2   86\n",
      "   18  329 1920  779  326  144 4930   48   18 3707   35 4931  317   43  174\n",
      "   34   26  537  112   35]\n"
     ]
    }
   ],
   "source": [
    "import pickle\n",
    "from helper import words_to_index\n",
    "from sklearn.preprocessing import LabelBinarizer\n",
    "\n",
    "X, index, reverse_index = words_to_index(data, \"text\", max_words=5000, length=200)\n",
    "lb = LabelBinarizer()\n",
    "y = lb.fit_transform(data[\"artist\"])\n",
    "\n",
    "# Dump preprocessed data to disk\n",
    "with open(\"./preprocessed_data.pkl\", \"wb\") as f:\n",
    "    pickle.dump((X, y, index, reverse_index, lb), f)\n",
    "\n",
    "print(\"\\nExample song before preprocessing\")\n",
    "print(\"-\" * 80)\n",
    "print(data.at[0, \"text\"])\n",
    "\n",
    "print(\"\\nSong after preprocessing (truncated after 200 words)\")\n",
    "print(\"-\" * 80)\n",
    "print(X[0])"
   ]
  },
  {
   "cell_type": "markdown",
   "metadata": {},
   "source": [
    "## Implementation\n",
    "---\n"
   ]
  },
  {
   "cell_type": "markdown",
   "metadata": {},
   "source": [
    "### First Iteration (Checkpoint)\n",
    "---\n",
    "For the first iteration of the model, I start with an embedding layer, followed by an LSTM layer and a Dense layer. I do not use dropout."
   ]
  },
  {
   "cell_type": "code",
   "execution_count": 23,
   "metadata": {},
   "outputs": [
    {
     "name": "stdout",
     "output_type": "stream",
     "text": [
      "_________________________________________________________________\n",
      "Layer (type)                 Output Shape              Param #   \n",
      "=================================================================\n",
      "embedding_23 (Embedding)     (None, 200, 8)            40000     \n",
      "_________________________________________________________________\n",
      "lstm_23 (LSTM)               (None, 20)                2320      \n",
      "_________________________________________________________________\n",
      "dense_23 (Dense)             (None, 5)                 105       \n",
      "=================================================================\n",
      "Total params: 42,425\n",
      "Trainable params: 42,425\n",
      "Non-trainable params: 0\n",
      "_________________________________________________________________\n",
      "None\n",
      "Train on 754 samples, validate on 189 samples\n",
      "Epoch 1/10\n",
      "754/754 [==============================] - 4s - loss: 1.6057 - acc: 0.2334 - val_loss: 1.5979 - val_acc: 0.2434\n",
      "Epoch 2/10\n",
      "754/754 [==============================] - 5s - loss: 1.5895 - acc: 0.3196 - val_loss: 1.5617 - val_acc: 0.2910\n",
      "Epoch 3/10\n",
      "754/754 [==============================] - 5s - loss: 1.5667 - acc: 0.2706 - val_loss: 1.5452 - val_acc: 0.2963\n",
      "Epoch 4/10\n",
      "754/754 [==============================] - 5s - loss: 1.5513 - acc: 0.3024 - val_loss: 1.5387 - val_acc: 0.2804\n",
      "Epoch 5/10\n",
      "754/754 [==============================] - 5s - loss: 1.4858 - acc: 0.3382 - val_loss: 1.5181 - val_acc: 0.3280\n",
      "Epoch 6/10\n",
      "754/754 [==============================] - 4s - loss: 1.3805 - acc: 0.3687 - val_loss: 1.6183 - val_acc: 0.3016\n",
      "Epoch 7/10\n",
      "754/754 [==============================] - 4s - loss: 1.3521 - acc: 0.3740 - val_loss: 1.5201 - val_acc: 0.2963\n",
      "Epoch 8/10\n",
      "754/754 [==============================] - 5s - loss: 1.3626 - acc: 0.3687 - val_loss: 1.6499 - val_acc: 0.2857\n",
      "Epoch 9/10\n",
      "754/754 [==============================] - 4s - loss: 1.3622 - acc: 0.3767 - val_loss: 1.5249 - val_acc: 0.3386\n",
      "Epoch 10/10\n",
      "754/754 [==============================] - 5s - loss: 1.3245 - acc: 0.3647 - val_loss: 1.6038 - val_acc: 0.2169\n"
     ]
    },
    {
     "data": {
      "text/plain": [
       "<keras.callbacks.History at 0x21e9d145470>"
      ]
     },
     "execution_count": 23,
     "metadata": {},
     "output_type": "execute_result"
    }
   ],
   "source": [
    "\"\"\"Code adapted from http://machinelearningmastery.com/sequence-classification-lstm-recurrent-neural-networks-python-keras/\"\"\"\n",
    "\n",
    "import numpy as np\n",
    "np.random.seed(42)\n",
    "import pickle\n",
    "\n",
    "from keras.models import Sequential\n",
    "from keras.layers import Dense\n",
    "from keras.layers import LSTM\n",
    "from keras.layers.embeddings import Embedding\n",
    "\n",
    "from sklearn.model_selection import train_test_split\n",
    "\n",
    "with open(\"./preprocessed_data.pkl\", \"rb\") as f:\n",
    "    X, y, index, _, _ = pickle.load(f)\n",
    "\n",
    "X_train, X_test, y_train, y_test = train_test_split(X, y, test_size=0.2, random_state=42)\n",
    "\n",
    "embedding_vector_length = 8\n",
    "model = Sequential()\n",
    "model.add(Embedding(len(index), embedding_vector_length, input_length=200))\n",
    "model.add(LSTM(20))\n",
    "model.add(Dense(5, activation=\"softmax\"))\n",
    "model.compile(loss=\"categorical_crossentropy\", optimizer=\"adam\", metrics=[\"accuracy\"])\n",
    "print(model.summary())\n",
    "model.fit(X_train, y_train, validation_data=(X_test, y_test), epochs=10, batch_size=32)"
   ]
  },
  {
   "cell_type": "markdown",
   "metadata": {},
   "source": [
    "We can see that the model achieves a maximum accuracy score of 33.86% on the validation set, and starts overfitting after the fifth epoch. Reducing the model's complexity even further does not improve generalization."
   ]
  },
  {
   "cell_type": "markdown",
   "metadata": {},
   "source": [
    "### Second Iteration (Checkpoint)\n",
    "---\n",
    "Now let's try to add dropout on the LSTM layer's input and output to try to mitigate overfitting. I also increase the learning rate by an order of magnitude and add some decay, following the suggestions in [this](http://machinelearningmastery.com/dropout-regularization-deep-learning-models-keras/) article."
   ]
  },
  {
   "cell_type": "code",
   "execution_count": 29,
   "metadata": {},
   "outputs": [
    {
     "name": "stdout",
     "output_type": "stream",
     "text": [
      "_________________________________________________________________\n",
      "Layer (type)                 Output Shape              Param #   \n",
      "=================================================================\n",
      "embedding_29 (Embedding)     (None, 200, 8)            40000     \n",
      "_________________________________________________________________\n",
      "lstm_29 (LSTM)               (None, 24)                3168      \n",
      "_________________________________________________________________\n",
      "dense_29 (Dense)             (None, 5)                 125       \n",
      "=================================================================\n",
      "Total params: 43,293\n",
      "Trainable params: 43,293\n",
      "Non-trainable params: 0\n",
      "_________________________________________________________________\n",
      "None\n",
      "Train on 754 samples, validate on 189 samples\n",
      "Epoch 1/10\n",
      "754/754 [==============================] - 9s - loss: 1.6091 - acc: 0.2308 - val_loss: 1.5604 - val_acc: 0.2751\n",
      "Epoch 2/10\n",
      "754/754 [==============================] - 8s - loss: 1.5575 - acc: 0.2772 - val_loss: 1.5500 - val_acc: 0.2646\n",
      "Epoch 3/10\n",
      "754/754 [==============================] - 8s - loss: 1.5334 - acc: 0.3289 - val_loss: 1.5169 - val_acc: 0.3386\n",
      "Epoch 4/10\n",
      "754/754 [==============================] - 8s - loss: 1.5084 - acc: 0.3554 - val_loss: 1.5433 - val_acc: 0.2487\n",
      "Epoch 5/10\n",
      "754/754 [==============================] - 8s - loss: 1.4617 - acc: 0.3687 - val_loss: 1.5221 - val_acc: 0.2857\n",
      "Epoch 6/10\n",
      "754/754 [==============================] - 9s - loss: 1.4257 - acc: 0.3886 - val_loss: 1.5269 - val_acc: 0.2804\n",
      "Epoch 7/10\n",
      "754/754 [==============================] - 9s - loss: 1.4178 - acc: 0.4191 - val_loss: 1.5258 - val_acc: 0.2804\n",
      "Epoch 8/10\n",
      "754/754 [==============================] - 10s - loss: 1.3748 - acc: 0.4045 - val_loss: 1.5272 - val_acc: 0.2646\n",
      "Epoch 9/10\n",
      "754/754 [==============================] - 8s - loss: 1.3634 - acc: 0.4324 - val_loss: 1.5244 - val_acc: 0.3016\n",
      "Epoch 10/10\n",
      "754/754 [==============================] - 9s - loss: 1.3428 - acc: 0.4111 - val_loss: 1.5193 - val_acc: 0.2751\n"
     ]
    },
    {
     "data": {
      "text/plain": [
       "<keras.callbacks.History at 0x2202b98b390>"
      ]
     },
     "execution_count": 29,
     "metadata": {},
     "output_type": "execute_result"
    }
   ],
   "source": [
    "import numpy as np\n",
    "np.random.seed(42)\n",
    "import pickle\n",
    "\n",
    "from keras.models import Sequential\n",
    "from keras.layers import Dense\n",
    "from keras.layers import LSTM\n",
    "from keras.layers.embeddings import Embedding\n",
    "from keras import optimizers\n",
    "\n",
    "from sklearn.model_selection import train_test_split\n",
    "\n",
    "with open(\"./preprocessed_data.pkl\", \"rb\") as f:\n",
    "    X, y, index, _, _ = pickle.load(f)\n",
    "\n",
    "X_train, X_test, y_train, y_test = train_test_split(X, y, test_size=0.2, random_state=42)\n",
    "\n",
    "embedding_vector_length = 8\n",
    "model = Sequential()\n",
    "model.add(Embedding(len(index), embedding_vector_length, input_length=200))\n",
    "model.add(LSTM(24, dropout=0.2, recurrent_dropout=0.2))\n",
    "model.add(Dense(5, activation=\"softmax\"))\n",
    "opt = optimizers.Adam(lr=0.01, decay=0.05)\n",
    "model.compile(loss=\"categorical_crossentropy\", optimizer=opt, metrics=[\"accuracy\"])\n",
    "print(model.summary())\n",
    "model.fit(X_train, y_train, validation_data=(X_test, y_test), epochs=10, batch_size=32)"
   ]
  },
  {
   "cell_type": "markdown",
   "metadata": {},
   "source": [
    "With dropout, the model achieves a maximum accuracy score of 33.86%, and starts overfitting after the fourth epoch. Tuning dropout rate, number of nodes in the LSTM layer, learning rate or decay doesn't significantly improve results. We most likely don't have enough data for dropout to help generalize."
   ]
  },
  {
   "cell_type": "markdown",
   "metadata": {
    "collapsed": true
   },
   "source": [
    "### Third Iteration (Checkpoint)\n",
    "---\n",
    "For the third and final iteration, let's add a convolutional layer and max pooling to see if we can improve accuracy further."
   ]
  },
  {
   "cell_type": "code",
   "execution_count": 31,
   "metadata": {},
   "outputs": [
    {
     "name": "stdout",
     "output_type": "stream",
     "text": [
      "_________________________________________________________________\n",
      "Layer (type)                 Output Shape              Param #   \n",
      "=================================================================\n",
      "embedding_31 (Embedding)     (None, 200, 8)            40000     \n",
      "_________________________________________________________________\n",
      "conv1d_6 (Conv1D)            (None, 200, 8)            200       \n",
      "_________________________________________________________________\n",
      "max_pooling1d_6 (MaxPooling1 (None, 100, 8)            0         \n",
      "_________________________________________________________________\n",
      "lstm_31 (LSTM)               (None, 20)                2320      \n",
      "_________________________________________________________________\n",
      "dense_31 (Dense)             (None, 5)                 105       \n",
      "=================================================================\n",
      "Total params: 42,625\n",
      "Trainable params: 42,625\n",
      "Non-trainable params: 0\n",
      "_________________________________________________________________\n",
      "None\n",
      "Train on 754 samples, validate on 189 samples\n",
      "Epoch 1/10\n",
      "754/754 [==============================] - 6s - loss: 1.6091 - acc: 0.1963 - val_loss: 1.6074 - val_acc: 0.1852\n",
      "Epoch 2/10\n",
      "754/754 [==============================] - 6s - loss: 1.6045 - acc: 0.2321 - val_loss: 1.6029 - val_acc: 0.1799\n",
      "Epoch 3/10\n",
      "754/754 [==============================] - 6s - loss: 1.5917 - acc: 0.2918 - val_loss: 1.5864 - val_acc: 0.2169\n",
      "Epoch 4/10\n",
      "754/754 [==============================] - 6s - loss: 1.5421 - acc: 0.2944 - val_loss: 1.5328 - val_acc: 0.2963\n",
      "Epoch 5/10\n",
      "754/754 [==============================] - 5s - loss: 1.3990 - acc: 0.4058 - val_loss: 1.5138 - val_acc: 0.3492\n",
      "Epoch 6/10\n",
      "754/754 [==============================] - 5s - loss: 1.2760 - acc: 0.4801 - val_loss: 1.6654 - val_acc: 0.3439\n",
      "Epoch 7/10\n",
      "754/754 [==============================] - 5s - loss: 1.2623 - acc: 0.4748 - val_loss: 1.5486 - val_acc: 0.3333\n",
      "Epoch 8/10\n",
      "754/754 [==============================] - 5s - loss: 1.2072 - acc: 0.4894 - val_loss: 1.6178 - val_acc: 0.3122\n",
      "Epoch 9/10\n",
      "754/754 [==============================] - 6s - loss: 1.1949 - acc: 0.4987 - val_loss: 1.7183 - val_acc: 0.3492\n",
      "Epoch 10/10\n",
      "754/754 [==============================] - 6s - loss: 1.1372 - acc: 0.5040 - val_loss: 1.9947 - val_acc: 0.3333\n"
     ]
    },
    {
     "data": {
      "text/plain": [
       "<keras.callbacks.History at 0x221bfe08d30>"
      ]
     },
     "execution_count": 31,
     "metadata": {},
     "output_type": "execute_result"
    }
   ],
   "source": [
    "import numpy as np\n",
    "np.random.seed(42)\n",
    "import pickle\n",
    "\n",
    "from keras.models import Sequential\n",
    "from keras.layers import Dense\n",
    "from keras.layers import LSTM\n",
    "from keras.layers.convolutional import Conv1D, MaxPooling1D\n",
    "from keras.layers.embeddings import Embedding\n",
    "from keras import optimizers\n",
    "\n",
    "from sklearn.model_selection import train_test_split\n",
    "\n",
    "with open(\"./preprocessed_data.pkl\", \"rb\") as f:\n",
    "    X, y, index, _, _ = pickle.load(f)\n",
    "\n",
    "X_train, X_test, y_train, y_test = train_test_split(X, y, test_size=0.2, random_state=42)\n",
    "\n",
    "embedding_vector_length = 8\n",
    "model = Sequential()\n",
    "model.add(Embedding(len(index), embedding_vector_length, input_length=200))\n",
    "model.add(Conv1D(filters=8, kernel_size=3, padding='same', activation='relu'))\n",
    "model.add(MaxPooling1D(pool_size=2))\n",
    "model.add(LSTM(20))\n",
    "model.add(Dense(5, activation=\"softmax\"))\n",
    "model.compile(loss=\"categorical_crossentropy\", optimizer=\"adam\", metrics=[\"accuracy\"])\n",
    "print(model.summary())\n",
    "model.fit(X_train, y_train, validation_data=(X_test, y_test), epochs=10, batch_size=32)"
   ]
  },
  {
   "cell_type": "markdown",
   "metadata": {},
   "source": [
    "This version of the model achieves a maximum accuracy of 34.92%, and overfits after the fourth epoch. Interestingly, validation loss is the highest out of either past iteration, an even starts increasing after the fifth epoch although validation accuracy doesn't drop. I would not consider this an improvement."
   ]
  },
  {
   "cell_type": "markdown",
   "metadata": {
    "collapsed": true
   },
   "source": [
    "### Final Model Evaluation (Checkpoint)\n",
    "---\n",
    "Because all of the models yielded similar results, I decide to go with the first, simplest iteration of the model. It seems that adding dropout and convolutional layers only causes the model to overfit more quickly and does little to improve performance."
   ]
  },
  {
   "cell_type": "code",
   "execution_count": 27,
   "metadata": {},
   "outputs": [
    {
     "name": "stdout",
     "output_type": "stream",
     "text": [
      "_________________________________________________________________\n",
      "Layer (type)                 Output Shape              Param #   \n",
      "=================================================================\n",
      "embedding_27 (Embedding)     (None, 200, 8)            40000     \n",
      "_________________________________________________________________\n",
      "lstm_27 (LSTM)               (None, 20)                2320      \n",
      "_________________________________________________________________\n",
      "dense_27 (Dense)             (None, 5)                 105       \n",
      "=================================================================\n",
      "Total params: 42,425\n",
      "Trainable params: 42,425\n",
      "Non-trainable params: 0\n",
      "_________________________________________________________________\n",
      "None\n",
      "Train on 754 samples, validate on 189 samples\n",
      "Epoch 1/5\n",
      "754/754 [==============================] - 5s - loss: 1.6050 - acc: 0.2520 - val_loss: 1.5966 - val_acc: 0.2540\n",
      "Epoch 2/5\n",
      "754/754 [==============================] - 6s - loss: 1.5878 - acc: 0.2984 - val_loss: 1.5567 - val_acc: 0.2963\n",
      "Epoch 3/5\n",
      "754/754 [==============================] - 6s - loss: 1.5626 - acc: 0.2639 - val_loss: 1.5445 - val_acc: 0.3069\n",
      "Epoch 4/5\n",
      "754/754 [==============================] - 5s - loss: 1.5395 - acc: 0.2878 - val_loss: 1.5263 - val_acc: 0.2910\n",
      "Epoch 5/5\n",
      "754/754 [==============================] - 5s - loss: 1.4795 - acc: 0.3462 - val_loss: 1.5682 - val_acc: 0.2698\n",
      "Train on 754 samples, validate on 189 samples\n",
      "Epoch 1/5\n",
      "754/754 [==============================] - 6s - loss: 1.6030 - acc: 0.2692 - val_loss: 1.6098 - val_acc: 0.2011\n",
      "Epoch 2/5\n",
      "754/754 [==============================] - 6s - loss: 1.5843 - acc: 0.3037 - val_loss: 1.6090 - val_acc: 0.2222\n",
      "Epoch 3/5\n",
      "754/754 [==============================] - 5s - loss: 1.5534 - acc: 0.3143 - val_loss: 1.6142 - val_acc: 0.2804\n",
      "Epoch 4/5\n",
      "754/754 [==============================] - 6s - loss: 1.5397 - acc: 0.2692 - val_loss: 1.6003 - val_acc: 0.2751\n",
      "Epoch 5/5\n",
      "754/754 [==============================] - 5s - loss: 1.4966 - acc: 0.3130 - val_loss: 1.7352 - val_acc: 0.3016\n",
      "Train on 754 samples, validate on 189 samples\n",
      "Epoch 1/5\n",
      "754/754 [==============================] - 5s - loss: 1.6047 - acc: 0.2679 - val_loss: 1.5989 - val_acc: 0.2222\n",
      "Epoch 2/5\n",
      "754/754 [==============================] - 5s - loss: 1.5834 - acc: 0.2785 - val_loss: 1.5741 - val_acc: 0.2275\n",
      "Epoch 3/5\n",
      "754/754 [==============================] - 5s - loss: 1.5556 - acc: 0.2798 - val_loss: 1.5724 - val_acc: 0.2222\n",
      "Epoch 4/5\n",
      "754/754 [==============================] - 5s - loss: 1.5350 - acc: 0.2878 - val_loss: 1.5610 - val_acc: 0.2381\n",
      "Epoch 5/5\n",
      "754/754 [==============================] - 5s - loss: 1.4711 - acc: 0.3395 - val_loss: 1.5828 - val_acc: 0.2434\n",
      "Train on 755 samples, validate on 188 samples\n",
      "Epoch 1/5\n",
      "755/755 [==============================] - 5s - loss: 1.6043 - acc: 0.2424 - val_loss: 1.6099 - val_acc: 0.1277\n",
      "Epoch 2/5\n",
      "755/755 [==============================] - 6s - loss: 1.5844 - acc: 0.2715 - val_loss: 1.6056 - val_acc: 0.2872\n",
      "Epoch 3/5\n",
      "755/755 [==============================] - 6s - loss: 1.5575 - acc: 0.2702 - val_loss: 1.5856 - val_acc: 0.2766\n",
      "Epoch 4/5\n",
      "755/755 [==============================] - 5s - loss: 1.5415 - acc: 0.2675 - val_loss: 1.5898 - val_acc: 0.2979\n",
      "Epoch 5/5\n",
      "755/755 [==============================] - 6s - loss: 1.4864 - acc: 0.3073 - val_loss: 1.6132 - val_acc: 0.2872\n",
      "Train on 755 samples, validate on 188 samples\n",
      "Epoch 1/5\n",
      "755/755 [==============================] - 5s - loss: 1.6055 - acc: 0.2596 - val_loss: 1.5999 - val_acc: 0.2500\n",
      "Epoch 2/5\n",
      "755/755 [==============================] - 6s - loss: 1.5868 - acc: 0.2715 - val_loss: 1.5710 - val_acc: 0.2606\n",
      "Epoch 3/5\n",
      "755/755 [==============================] - 5s - loss: 1.5503 - acc: 0.2742 - val_loss: 1.5403 - val_acc: 0.2606\n",
      "Epoch 4/5\n",
      "755/755 [==============================] - 5s - loss: 1.4918 - acc: 0.3272 - val_loss: 1.5724 - val_acc: 0.2979\n",
      "Epoch 5/5\n",
      "755/755 [==============================] - 5s - loss: 1.3960 - acc: 0.3682 - val_loss: 1.5417 - val_acc: 0.3245\n",
      "\n",
      "Average accuracy score: 28.53%\n",
      "Standard deviation of accuracy scores: 2.76\n"
     ]
    }
   ],
   "source": [
    "import numpy as np\n",
    "np.random.seed(42)\n",
    "import pickle\n",
    "\n",
    "from keras.models import Sequential\n",
    "from keras.layers import Dense\n",
    "from keras.layers import LSTM\n",
    "from keras.layers.embeddings import Embedding\n",
    "from keras import optimizers\n",
    "\n",
    "from sklearn.model_selection import KFold\n",
    "\n",
    "with open(\"./preprocessed_data.pkl\", \"rb\") as f:\n",
    "    X, y, index, _, lb = pickle.load(f)\n",
    "\n",
    "embedding_vector_length = 8\n",
    "model = Sequential()\n",
    "model.add(Embedding(len(index), embedding_vector_length, input_length=200))\n",
    "model.add(LSTM(20))\n",
    "model.add(Dense(5, activation=\"softmax\"))\n",
    "print(model.summary())\n",
    "\n",
    "# Save initial weights so we can reset them before each validation session\n",
    "model.save_weights(\"final_model_weights.h5\")\n",
    "\n",
    "kf = KFold(n_splits=5, shuffle=True, random_state=42)\n",
    "\n",
    "scores = []\n",
    "\n",
    "for train_idx, test_idx in kf.split(X):\n",
    "    X_train, X_test = X[train_idx], X[test_idx]\n",
    "    y_train, y_test = y[train_idx], y[test_idx]\n",
    "    model.compile(loss=\"categorical_crossentropy\", optimizer=\"adam\", metrics=[\"accuracy\"])\n",
    "    model.load_weights(\"final_model_weights.h5\")\n",
    "    model.fit(X_train, y_train, validation_data=(X_test, y_test), epochs=5, batch_size=32)\n",
    "    scores.append(model.evaluate(X_test, y_test, verbose=0)[1])\n",
    "    \n",
    "print(\"\\nAverage accuracy score: {:.2f}%\".format(np.mean(scores) * 100))\n",
    "print(\"Standard deviation of accuracy scores: {:.2f}\".format(np.std(scores) * 100))"
   ]
  },
  {
   "cell_type": "code",
   "execution_count": null,
   "metadata": {
    "collapsed": true
   },
   "outputs": [],
   "source": []
  }
 ],
 "metadata": {
  "kernelspec": {
   "display_name": "Python 3",
   "language": "python",
   "name": "python3"
  },
  "language_info": {
   "codemirror_mode": {
    "name": "ipython",
    "version": 3
   },
   "file_extension": ".py",
   "mimetype": "text/x-python",
   "name": "python",
   "nbconvert_exporter": "python",
   "pygments_lexer": "ipython3",
   "version": "3.6.1"
  }
 },
 "nbformat": 4,
 "nbformat_minor": 2
}
